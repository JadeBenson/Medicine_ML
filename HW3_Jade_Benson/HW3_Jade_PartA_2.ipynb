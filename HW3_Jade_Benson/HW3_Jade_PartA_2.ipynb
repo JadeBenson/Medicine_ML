{
 "cells": [
  {
   "cell_type": "markdown",
   "id": "791ec545-0cff-4e05-9023-e2a4d264587a",
   "metadata": {},
   "source": [
    "**Part A, part 2** \n",
    "Cancer subtype classifying "
   ]
  },
  {
   "cell_type": "code",
   "execution_count": 45,
   "id": "09549a50-a2e0-4bc1-b4d6-a7266b73df4b",
   "metadata": {},
   "outputs": [],
   "source": [
    "\n",
    "import pandas as pd \n",
    "import numpy as np \n",
    "import matplotlib.pyplot as plt\n",
    "import sklearn\n",
    "\n",
    "from sklearn import preprocessing, datasets, metrics\n",
    "from sklearn.preprocessing import StandardScaler, MinMaxScaler\n",
    "from sklearn.model_selection import cross_validate, train_test_split, cross_val_predict\n",
    "from sklearn.metrics import make_scorer, confusion_matrix, f1_score, accuracy_score\n",
    "#from sklearn.metrics import confusion_matrix\n",
    "\n",
    "from sklearn.pipeline import make_pipeline\n",
    "\n",
    "#random forest \n",
    "from sklearn.ensemble import RandomForestClassifier\n",
    "from sklearn.datasets import make_classification\n",
    "\n",
    "#naive bayes \n",
    "from sklearn.naive_bayes import MultinomialNB\n",
    "\n",
    "#Support Vector Classifier (SVC) \n",
    "from sklearn.svm import SVC\n",
    "\n",
    "#feature selection \n",
    "from sklearn.ensemble import ExtraTreesClassifier\n",
    "from sklearn.feature_selection import SelectFromModel\n",
    "\n",
    "#Keras\n",
    "from keras.models import Sequential \n",
    "from keras.layers import Dense\n",
    "\n",
    "import tensorflow as tf \n",
    "\n",
    "#import in my functions from the prior notebook \n",
    "#from ipynb.fs.full.HW3_Jade_PartA_1 import my_ML_models, my_keras\n",
    "#this was my bad in how I wrote these\n",
    "#they import in with the full print outs \n",
    "#I'm just copying the functions over \n",
    "#sorry about that "
   ]
  },
  {
   "cell_type": "markdown",
   "id": "d8cc4c94-6254-44ec-a342-79d4cb7aca99",
   "metadata": {},
   "source": [
    "This set of questions is very similar to before, but this time we are classifying tumor types as opposed to binary tissue types (normal/tumor). I created this code on the full dataset on Sunday, November 7th and had not realized there was a way to get the coding specific genes without a separate dataset. That was a mistake on my part on undestanding the data. I'm going to keep this analysis on the full dataset as we saw that there wasn't much difference between the coding and all gene data in the prior section, except for the feature selection. \n",
    "\n",
    "We will follow the same analysis plan - test some classical machine learning techniques, feature selection, and then deep learning with keras. "
   ]
  },
  {
   "cell_type": "code",
   "execution_count": 2,
   "id": "0548b35d-282b-4be0-abb4-9d0fff6213e8",
   "metadata": {},
   "outputs": [],
   "source": [
    "type_df = pd.read_csv(\"MLiB-Lab3-PartA/type.all.csv\")"
   ]
  },
  {
   "cell_type": "code",
   "execution_count": null,
   "id": "99da877b-9b3b-47dd-8506-6ab3167b4027",
   "metadata": {},
   "outputs": [],
   "source": [
    "#easy to load and use this big dataset later\n",
    "type_df.to_pickle(\"./cancer_types.pkl\")"
   ]
  },
  {
   "cell_type": "code",
   "execution_count": null,
   "id": "bd98f64b-b4ed-4837-b59a-2930ae89c9b7",
   "metadata": {},
   "outputs": [],
   "source": [
    "type_df = pd.read_pickle(\"./cancer_types.pkl\")"
   ]
  },
  {
   "cell_type": "code",
   "execution_count": 3,
   "id": "a628484c-06ae-4859-81fa-614ae3625301",
   "metadata": {},
   "outputs": [
    {
     "data": {
      "text/plain": [
       "(5400, 60484)"
      ]
     },
     "execution_count": 3,
     "metadata": {},
     "output_type": "execute_result"
    }
   ],
   "source": [
    "type_df.shape"
   ]
  },
  {
   "cell_type": "code",
   "execution_count": 34,
   "id": "541d58ba-556b-4678-b7d4-efa58e79e877",
   "metadata": {},
   "outputs": [
    {
     "data": {
      "text/plain": [
       "array([16, 12,  5,  7, 17, 10,  6, 13,  2,  1, 18, 15,  3,  4,  9, 11, 14,\n",
       "        8])"
      ]
     },
     "execution_count": 34,
     "metadata": {},
     "output_type": "execute_result"
    }
   ],
   "source": [
    "type_df.Type.unique()"
   ]
  },
  {
   "cell_type": "code",
   "execution_count": 13,
   "id": "10ccac0f-785e-483d-9046-cca7b6fdd891",
   "metadata": {},
   "outputs": [
    {
     "data": {
      "text/html": [
       "<div>\n",
       "<style scoped>\n",
       "    .dataframe tbody tr th:only-of-type {\n",
       "        vertical-align: middle;\n",
       "    }\n",
       "\n",
       "    .dataframe tbody tr th {\n",
       "        vertical-align: top;\n",
       "    }\n",
       "\n",
       "    .dataframe thead th {\n",
       "        text-align: right;\n",
       "    }\n",
       "</style>\n",
       "<table border=\"1\" class=\"dataframe\">\n",
       "  <thead>\n",
       "    <tr style=\"text-align: right;\">\n",
       "      <th></th>\n",
       "      <th>Type</th>\n",
       "      <th>ENSG00000000003.13</th>\n",
       "      <th>ENSG00000000005.5</th>\n",
       "      <th>ENSG00000000419.11</th>\n",
       "      <th>ENSG00000000457.12</th>\n",
       "      <th>ENSG00000000460.15</th>\n",
       "      <th>ENSG00000000938.11</th>\n",
       "      <th>ENSG00000000971.14</th>\n",
       "      <th>ENSG00000001036.12</th>\n",
       "      <th>ENSG00000001084.9</th>\n",
       "      <th>...</th>\n",
       "      <th>ENSGR0000263980.4</th>\n",
       "      <th>ENSGR0000264510.4</th>\n",
       "      <th>ENSGR0000264819.4</th>\n",
       "      <th>ENSGR0000265658.4</th>\n",
       "      <th>ENSGR0000270726.4</th>\n",
       "      <th>ENSGR0000275287.3</th>\n",
       "      <th>ENSGR0000276543.3</th>\n",
       "      <th>ENSGR0000277120.3</th>\n",
       "      <th>ENSGR0000280767.1</th>\n",
       "      <th>ENSGR0000281849.1</th>\n",
       "    </tr>\n",
       "  </thead>\n",
       "  <tbody>\n",
       "    <tr>\n",
       "      <th>0</th>\n",
       "      <td>16</td>\n",
       "      <td>19.0</td>\n",
       "      <td>11.7</td>\n",
       "      <td>19.1</td>\n",
       "      <td>17.1</td>\n",
       "      <td>15.5</td>\n",
       "      <td>16.0</td>\n",
       "      <td>18.3</td>\n",
       "      <td>18.9</td>\n",
       "      <td>16.3</td>\n",
       "      <td>...</td>\n",
       "      <td>0</td>\n",
       "      <td>0</td>\n",
       "      <td>0</td>\n",
       "      <td>0</td>\n",
       "      <td>0</td>\n",
       "      <td>0</td>\n",
       "      <td>0</td>\n",
       "      <td>0</td>\n",
       "      <td>0</td>\n",
       "      <td>0</td>\n",
       "    </tr>\n",
       "    <tr>\n",
       "      <th>1</th>\n",
       "      <td>12</td>\n",
       "      <td>16.5</td>\n",
       "      <td>0.0</td>\n",
       "      <td>21.3</td>\n",
       "      <td>15.5</td>\n",
       "      <td>14.9</td>\n",
       "      <td>17.4</td>\n",
       "      <td>17.6</td>\n",
       "      <td>20.1</td>\n",
       "      <td>17.7</td>\n",
       "      <td>...</td>\n",
       "      <td>0</td>\n",
       "      <td>0</td>\n",
       "      <td>0</td>\n",
       "      <td>0</td>\n",
       "      <td>0</td>\n",
       "      <td>0</td>\n",
       "      <td>0</td>\n",
       "      <td>0</td>\n",
       "      <td>0</td>\n",
       "      <td>0</td>\n",
       "    </tr>\n",
       "    <tr>\n",
       "      <th>2</th>\n",
       "      <td>5</td>\n",
       "      <td>19.8</td>\n",
       "      <td>9.7</td>\n",
       "      <td>20.4</td>\n",
       "      <td>16.4</td>\n",
       "      <td>14.2</td>\n",
       "      <td>13.9</td>\n",
       "      <td>21.5</td>\n",
       "      <td>20.0</td>\n",
       "      <td>18.7</td>\n",
       "      <td>...</td>\n",
       "      <td>0</td>\n",
       "      <td>0</td>\n",
       "      <td>0</td>\n",
       "      <td>0</td>\n",
       "      <td>0</td>\n",
       "      <td>0</td>\n",
       "      <td>0</td>\n",
       "      <td>0</td>\n",
       "      <td>0</td>\n",
       "      <td>0</td>\n",
       "    </tr>\n",
       "    <tr>\n",
       "      <th>3</th>\n",
       "      <td>7</td>\n",
       "      <td>16.7</td>\n",
       "      <td>0.0</td>\n",
       "      <td>19.3</td>\n",
       "      <td>15.9</td>\n",
       "      <td>16.1</td>\n",
       "      <td>16.8</td>\n",
       "      <td>16.2</td>\n",
       "      <td>19.2</td>\n",
       "      <td>18.6</td>\n",
       "      <td>...</td>\n",
       "      <td>0</td>\n",
       "      <td>0</td>\n",
       "      <td>0</td>\n",
       "      <td>0</td>\n",
       "      <td>0</td>\n",
       "      <td>0</td>\n",
       "      <td>0</td>\n",
       "      <td>0</td>\n",
       "      <td>0</td>\n",
       "      <td>0</td>\n",
       "    </tr>\n",
       "    <tr>\n",
       "      <th>4</th>\n",
       "      <td>16</td>\n",
       "      <td>16.4</td>\n",
       "      <td>10.2</td>\n",
       "      <td>19.3</td>\n",
       "      <td>15.5</td>\n",
       "      <td>15.0</td>\n",
       "      <td>15.6</td>\n",
       "      <td>17.3</td>\n",
       "      <td>18.7</td>\n",
       "      <td>17.4</td>\n",
       "      <td>...</td>\n",
       "      <td>0</td>\n",
       "      <td>0</td>\n",
       "      <td>0</td>\n",
       "      <td>0</td>\n",
       "      <td>0</td>\n",
       "      <td>0</td>\n",
       "      <td>0</td>\n",
       "      <td>0</td>\n",
       "      <td>0</td>\n",
       "      <td>0</td>\n",
       "    </tr>\n",
       "  </tbody>\n",
       "</table>\n",
       "<p>5 rows × 60484 columns</p>\n",
       "</div>"
      ],
      "text/plain": [
       "   Type  ENSG00000000003.13  ENSG00000000005.5  ENSG00000000419.11  \\\n",
       "0    16                19.0               11.7                19.1   \n",
       "1    12                16.5                0.0                21.3   \n",
       "2     5                19.8                9.7                20.4   \n",
       "3     7                16.7                0.0                19.3   \n",
       "4    16                16.4               10.2                19.3   \n",
       "\n",
       "   ENSG00000000457.12  ENSG00000000460.15  ENSG00000000938.11  \\\n",
       "0                17.1                15.5                16.0   \n",
       "1                15.5                14.9                17.4   \n",
       "2                16.4                14.2                13.9   \n",
       "3                15.9                16.1                16.8   \n",
       "4                15.5                15.0                15.6   \n",
       "\n",
       "   ENSG00000000971.14  ENSG00000001036.12  ENSG00000001084.9  ...  \\\n",
       "0                18.3                18.9               16.3  ...   \n",
       "1                17.6                20.1               17.7  ...   \n",
       "2                21.5                20.0               18.7  ...   \n",
       "3                16.2                19.2               18.6  ...   \n",
       "4                17.3                18.7               17.4  ...   \n",
       "\n",
       "   ENSGR0000263980.4  ENSGR0000264510.4  ENSGR0000264819.4  ENSGR0000265658.4  \\\n",
       "0                  0                  0                  0                  0   \n",
       "1                  0                  0                  0                  0   \n",
       "2                  0                  0                  0                  0   \n",
       "3                  0                  0                  0                  0   \n",
       "4                  0                  0                  0                  0   \n",
       "\n",
       "   ENSGR0000270726.4  ENSGR0000275287.3  ENSGR0000276543.3  ENSGR0000277120.3  \\\n",
       "0                  0                  0                  0                  0   \n",
       "1                  0                  0                  0                  0   \n",
       "2                  0                  0                  0                  0   \n",
       "3                  0                  0                  0                  0   \n",
       "4                  0                  0                  0                  0   \n",
       "\n",
       "   ENSGR0000280767.1  ENSGR0000281849.1  \n",
       "0                  0                  0  \n",
       "1                  0                  0  \n",
       "2                  0                  0  \n",
       "3                  0                  0  \n",
       "4                  0                  0  \n",
       "\n",
       "[5 rows x 60484 columns]"
      ]
     },
     "execution_count": 13,
     "metadata": {},
     "output_type": "execute_result"
    }
   ],
   "source": [
    "type_df.head()"
   ]
  },
  {
   "cell_type": "code",
   "execution_count": 46,
   "id": "278857a9-73d1-4fd4-b167-d05a4066e7c2",
   "metadata": {},
   "outputs": [],
   "source": [
    "type_y = type_df[\"Type\"]\n",
    "type_x = type_df.drop(columns = [\"Type\"])"
   ]
  },
  {
   "cell_type": "code",
   "execution_count": 55,
   "id": "af32cbbb-9b52-458c-9ee5-5cb335cc68e6",
   "metadata": {},
   "outputs": [],
   "source": [
    "#redefine classic ML function \n",
    "#this is the same as last time, I just had difficulties cleaning importing it \n",
    "#Define machine learning function so I can easily run this for the full N/T dataset and the Type problem in Part A, 2\n",
    "\n",
    "def my_ML_models(x_df, y_df, ml_model):\n",
    "    \"\"\"\n",
    "    Inputs:\n",
    "        x_df: dataframe with gene expression values \n",
    "        y_df: dataframe with desired outcome (tumor status, type)\n",
    "        ml_model: string with classic ML technique \n",
    "        current options: \"Random Forest\", \"Naive Bayes\", \"SVC\"\n",
    "    \n",
    "    Returns: \n",
    "        None\n",
    "        Only prints various model performance statistics\n",
    "    \n",
    "    \"\"\"\n",
    "    \n",
    "    if ml_model == \"Random Forest\": \n",
    "        pipe = make_pipeline(StandardScaler(), RandomForestClassifier())\n",
    "    \n",
    "    elif ml_model == \"Naive Bayes\": \n",
    "        #need min/max scaler since NB can't handle negative values \n",
    "        pipe = make_pipeline(MinMaxScaler(), MultinomialNB())\n",
    "    \n",
    "    elif ml_model == \"SVC\":\n",
    "        pipe = make_pipeline(StandardScaler(), SVC(gamma = \"auto\"))\n",
    "        \n",
    "    else: \n",
    "        print(\"I haven't defined that model yet\")\n",
    "        print(\"Only Random Forest, Naive Bayes, and SVC supported now\")\n",
    "    \n",
    "    \n",
    "    #predict y using the ML method above with 5-fold cross validation\n",
    "    y_pred = cross_val_predict(pipe, x_df, y_df, cv = 5)\n",
    "    \n",
    "    #can just print metrics since we don't use them later \n",
    "    #update this if want more functionality \n",
    "\n",
    "    #confusion matrix\n",
    "    print(\"Confusion Matrix: \", confusion_matrix(y_df, y_pred))\n",
    "\n",
    "    #f1 scores \n",
    "    print(\"F1 Score\", f1_score(y_df, y_pred, average = None))\n",
    "\n",
    "    #Accuracy \n",
    "    print(\"Accuracy\", accuracy_score(y_df, y_pred))\n",
    "    "
   ]
  },
  {
   "cell_type": "code",
   "execution_count": 56,
   "id": "d9172e66-e9bf-4fe3-9310-df53d413f72a",
   "metadata": {},
   "outputs": [
    {
     "name": "stdout",
     "output_type": "stream",
     "text": [
      "Confusion Matrix:  [[300   0   0   0   0   0   0   0   0   0   0   0   0   0   0   0   0   0]\n",
      " [  0 274   0   0   0   0  10   0   0   1   1   0   0   1   0   1  12   0]\n",
      " [  0   0 288  11   0   0   0   0   0   1   0   0   0   0   0   0   0   0]\n",
      " [  0   0   9 287   0   0   0   0   0   0   4   0   0   0   0   0   0   0]\n",
      " [  0   0   0   1 296   0   0   0   0   2   1   0   0   0   0   0   0   0]\n",
      " [  0   0   0   0   0 287  11   0   0   0   0   0   0   0   0   1   0   1]\n",
      " [  0   5   0   0   1  46 240   0   0   0   2   0   0   0   0   4   2   0]\n",
      " [  0   0   0   0   0   0   0 299   0   0   0   1   0   0   0   0   0   0]\n",
      " [  0   0   0   0   0   0   0   0 298   0   0   0   1   0   0   1   0   0]\n",
      " [  0   0   0   0   0   0   0   0   0 299   0   0   0   0   0   0   1   0]\n",
      " [  0  13   0   0   0   0   4   0   0   2 273   0   0   0   0   2   6   0]\n",
      " [  0   0   0   0   0   0   0   1   0   0   0 299   0   0   0   0   0   0]\n",
      " [  0   0   0   0   0   0   0   0   0   0   0   0 300   0   0   0   0   0]\n",
      " [  0   0   1   0   1   0   0   0   0   0   0   0   0 296   0   0   1   1]\n",
      " [  0   0   0   0   0   0   0   0   0   1   0   0   0   0 299   0   0   0]\n",
      " [  0   1   0   0   1   1   0   0   0   0   1   0   0   0   0 295   1   0]\n",
      " [  0   2   0   0   0   0   1   0   0   1   1   0   0  14   0   0 277   4]\n",
      " [  0   0   0   0   0   0   0   0   0   0   0   2   0   0   0   0   0 298]]\n",
      "F1 Score [1.         0.9210084  0.9632107  0.95826377 0.98831386 0.90536278\n",
      " 0.84805654 0.99666667 0.99665552 0.98517298 0.93653516 0.99335548\n",
      " 0.99833611 0.96890344 0.99833055 0.97682119 0.92333333 0.98675497]\n",
      "Accuracy 0.9638888888888889\n"
     ]
    }
   ],
   "source": [
    "#Random forest on all type data \n",
    "my_ML_models(type_x, type_y, \"Random Forest\")\n",
    "\n",
    "#again this performs great on both metrics "
   ]
  },
  {
   "cell_type": "markdown",
   "id": "c7474f07-5fa0-4d54-942e-b7947076cfba",
   "metadata": {},
   "source": [
    "Again, random forest performs very well on this classification problem. Its overall accuracy is 96% and it reaches even higher true positive rates for particular types. We might want to develop other models to improve the accuracy on some of the types, for example tumor type 7 only has an 85% true positive rate. Perhaps another model does a better job at identifying this type of tumor. "
   ]
  },
  {
   "cell_type": "code",
   "execution_count": 57,
   "id": "471b4f16-0d79-4a06-adc7-2a550c7eea8f",
   "metadata": {},
   "outputs": [
    {
     "name": "stdout",
     "output_type": "stream",
     "text": [
      "Confusion Matrix:  [[296   0   0   0   0   0   0   0   0   0   0   4   0   0   0   0   0   0]\n",
      " [  0 252   0   0   0   0  22   0   0   0   0   7   0   0   0   2  17   0]\n",
      " [  0   0 235  47   1   1   0   0   0   1   0  14   0   1   0   0   0   0]\n",
      " [  0   0  19 267   0   0   2   0   0   0   5   7   0   0   0   0   0   0]\n",
      " [  0   0   2   3 288   2   3   0   0   2   0   0   0   0   0   0   0   0]\n",
      " [  0   0   0   0   0 267  19   0   0   0   1   8   0   0   0   2   2   1]\n",
      " [  0  10   0   0   0  41 243   0   0   0   1   0   0   0   0   2   3   0]\n",
      " [  0   0   0   0   0   0   0 299   0   0   0   0   0   0   0   0   1   0]\n",
      " [  0   0   0   0   0   1   0   0 291   0   0   7   0   1   0   0   0   0]\n",
      " [  0   2   0   0   0   1   1   0   0 293   0   2   0   0   0   1   0   0]\n",
      " [  0  19   0   0   0   1  14   0   1   0 241   5   0   3   0   1  15   0]\n",
      " [  0   1   0   0   0   7   0  10   0   0   0 264   0   0   0   0   0  18]\n",
      " [  0   0   1   0   0   1   0   0   0   0   0   1 295   2   0   0   0   0]\n",
      " [  0   0   0   0   0   2   4   3   0   0   0  13   1 264   0   4   8   1]\n",
      " [  0   0   0   0   0   0   0   0   0   0   0   0   0   0 300   0   0   0]\n",
      " [  0   0   0   0   0   0   3   0   0   1   0   8   0   3   0 276   9   0]\n",
      " [  0   5   0   0   0   1   5   0   1   0   2   0   0   5   0   2 277   2]\n",
      " [  0   0   0   0   0   1   0   0   1   0   0  13   0   0   0   0   1 284]]\n",
      "F1 Score [0.99328859 0.85568761 0.8438061  0.86547812 0.97792869 0.85303514\n",
      " 0.78896104 0.97712418 0.97979798 0.98157454 0.87636364 0.8085758\n",
      " 0.98993289 0.9119171  1.         0.93559322 0.87519747 0.93729373]\n",
      "Accuracy 0.9133333333333333\n"
     ]
    }
   ],
   "source": [
    "#Naive Bayes on gene coding data\n",
    "my_ML_models(type_x, type_y, \"Naive Bayes\")\n"
   ]
  },
  {
   "cell_type": "markdown",
   "id": "8c8c8d2e-db10-4eae-9559-3c75408be5a0",
   "metadata": {},
   "source": [
    "Naive Bayes also performs very well with an overall accuracy of 91%, but there's a spread in how well it predicts true positives depending on the cancer types. We might choose a different model for these types or need to do more data preparation to adjust for imbalances. "
   ]
  },
  {
   "cell_type": "markdown",
   "id": "93d482f9-8cdf-426b-a532-badf0c7872f7",
   "metadata": {},
   "source": [
    "I was trying to use SVC here too, but it was timing out. I'm not sure why this is happening and would need to look more into the formulas and dataset to identify this issue. Since the other models are performing so well, I will use these instead. "
   ]
  },
  {
   "cell_type": "markdown",
   "id": "2225b238-9a4e-4271-a088-bf48947b4d55",
   "metadata": {},
   "source": [
    "*Feature Selection* \n",
    "\n",
    "The F-test is also taking way too long with this big of a dataset and 18 different classes. Instead, I chose a trees approach here since this should be faster. Given how well the random forests have been working as classifiers, I think it should also do well as a dimension reducer. "
   ]
  },
  {
   "cell_type": "code",
   "execution_count": 58,
   "id": "50730c0d-7226-460c-8568-c8c85186e8c2",
   "metadata": {},
   "outputs": [
    {
     "data": {
      "text/plain": [
       "Index(['ENSG00000021852.11', 'ENSG00000042832.10', 'ENSG00000065361.13',\n",
       "       'ENSG00000066813.13', 'ENSG00000074527.10', 'ENSG00000079112.8',\n",
       "       'ENSG00000086205.15', 'ENSG00000091513.13', 'ENSG00000100557.8',\n",
       "       'ENSG00000104154.6', 'ENSG00000104447.10', 'ENSG00000107485.14',\n",
       "       'ENSG00000108405.3', 'ENSG00000109072.12', 'ENSG00000120215.8',\n",
       "       'ENSG00000124564.16', 'ENSG00000124900.11', 'ENSG00000125257.12',\n",
       "       'ENSG00000125618.15', 'ENSG00000132688.10', 'ENSG00000134871.16',\n",
       "       'ENSG00000136881.10', 'ENSG00000136944.16', 'ENSG00000138079.12',\n",
       "       'ENSG00000139194.6', 'ENSG00000140093.8', 'ENSG00000141738.12',\n",
       "       'ENSG00000142515.13', 'ENSG00000143921.6', 'ENSG00000143995.18',\n",
       "       'ENSG00000146005.3', 'ENSG00000147676.12', 'ENSG00000148513.16',\n",
       "       'ENSG00000149742.8', 'ENSG00000150556.15', 'ENSG00000150625.15',\n",
       "       'ENSG00000152804.9', 'ENSG00000153822.12', 'ENSG00000157103.9',\n",
       "       'ENSG00000158715.5', 'ENSG00000162267.11', 'ENSG00000163435.14',\n",
       "       'ENSG00000164175.13', 'ENSG00000164265.7', 'ENSG00000164736.5',\n",
       "       'ENSG00000165409.14', 'ENSG00000165556.9', 'ENSG00000166589.11',\n",
       "       'ENSG00000166840.12', 'ENSG00000167332.7', 'ENSG00000167749.10',\n",
       "       'ENSG00000168484.11', 'ENSG00000173269.12', 'ENSG00000179362.13',\n",
       "       'ENSG00000182704.7', 'ENSG00000184221.11', 'ENSG00000186081.10',\n",
       "       'ENSG00000186522.13', 'ENSG00000187244.9', 'ENSG00000187758.6',\n",
       "       'ENSG00000187823.3', 'ENSG00000196338.11', 'ENSG00000196353.10',\n",
       "       'ENSG00000198758.9', 'ENSG00000205420.9', 'ENSG00000207955.3',\n",
       "       'ENSG00000224849.2', 'ENSG00000225937.1', 'ENSG00000229415.8',\n",
       "       'ENSG00000229743.2', 'ENSG00000229847.7', 'ENSG00000230155.5',\n",
       "       'ENSG00000230945.1', 'ENSG00000234918.1', 'ENSG00000238194.1',\n",
       "       'ENSG00000238250.1', 'ENSG00000239776.2', 'ENSG00000240759.1',\n",
       "       'ENSG00000240800.1', 'ENSG00000241781.2', 'ENSG00000242808.6',\n",
       "       'ENSG00000242899.1', 'ENSG00000243350.1', 'ENSG00000244649.3',\n",
       "       'ENSG00000248184.1', 'ENSG00000253230.5', 'ENSG00000253563.2',\n",
       "       'ENSG00000259238.1', 'ENSG00000259803.5', 'ENSG00000260664.2',\n",
       "       'ENSG00000262995.1', 'ENSG00000267391.2', 'ENSG00000272141.1',\n",
       "       'ENSG00000272933.1', 'ENSG00000275410.3', 'ENSG00000276924.1',\n",
       "       'ENSG00000277150.1', 'ENSG00000278047.1', 'ENSG00000278597.1',\n",
       "       'ENSG00000281358.1'],\n",
       "      dtype='object')"
      ]
     },
     "execution_count": 58,
     "metadata": {},
     "output_type": "execute_result"
    }
   ],
   "source": [
    "#Random forest performs the best and fastest, use this classifier\n",
    "#top 100 features \n",
    "sel = SelectFromModel(RandomForestClassifier(n_estimators = 100), max_features = 100)\n",
    "sel.fit(type_x, type_y)\n",
    "selected_feat= type_x.columns[(sel.get_support())]\n",
    "selected_feat"
   ]
  },
  {
   "cell_type": "markdown",
   "id": "6528d296-bb62-498b-a0ef-ab58d208f0a1",
   "metadata": {},
   "source": [
    "*Keras* \n",
    "\n",
    "I tried running Keras on both the full gene dataset and the top 100 features. It performed much better with the top 100 features dataset, I'm thinking because it doesn't learn as much of the noise and redundant gene data. Keras on the top 100 features followed by full dataset. "
   ]
  },
  {
   "cell_type": "code",
   "execution_count": 64,
   "id": "4b6800f4-5d54-44c3-ad76-573e9695b95e",
   "metadata": {},
   "outputs": [],
   "source": [
    "top_df = type_df[selected_feat]\n",
    "\n",
    "top_x = type_df.drop(columns = [\"Type\"])\n",
    "top_y = type_df[\"Type\"]\n",
    "\n",
    "#change labels to be 0 - 17 instead \n",
    "top_y = top_y -1 \n",
    "\n",
    "#scale the x's \n",
    "top_max = max(np.max(top_x))\n",
    "top_x = top_x/top_max"
   ]
  },
  {
   "cell_type": "code",
   "execution_count": 43,
   "id": "8e0b606b-0071-487c-aaff-3f17e47e3998",
   "metadata": {},
   "outputs": [
    {
     "name": "stdout",
     "output_type": "stream",
     "text": [
      "Epoch 1/10\n",
      "135/135 [==============================] - 8s 60ms/step - loss: 2.6754 - accuracy: 0.2023 - val_loss: 1.9591 - val_accuracy: 0.2907\n",
      "Epoch 2/10\n",
      "135/135 [==============================] - 3s 25ms/step - loss: 1.6833 - accuracy: 0.3688 - val_loss: 1.4796 - val_accuracy: 0.4333\n",
      "Epoch 3/10\n",
      "135/135 [==============================] - 3s 21ms/step - loss: 0.9984 - accuracy: 0.6831 - val_loss: 0.7528 - val_accuracy: 0.8074\n",
      "Epoch 4/10\n",
      "135/135 [==============================] - 3s 22ms/step - loss: 0.4909 - accuracy: 0.8921 - val_loss: 0.5295 - val_accuracy: 0.8472\n",
      "Epoch 5/10\n",
      "135/135 [==============================] - 3s 21ms/step - loss: 0.3361 - accuracy: 0.9275 - val_loss: 0.6072 - val_accuracy: 0.8139\n",
      "Epoch 6/10\n",
      "135/135 [==============================] - 3s 22ms/step - loss: 0.2181 - accuracy: 0.9609 - val_loss: 0.4115 - val_accuracy: 0.8935\n",
      "Epoch 7/10\n",
      "135/135 [==============================] - 3s 21ms/step - loss: 0.1601 - accuracy: 0.9775 - val_loss: 0.3796 - val_accuracy: 0.9009\n",
      "Epoch 8/10\n",
      "135/135 [==============================] - 3s 20ms/step - loss: 0.1204 - accuracy: 0.9840 - val_loss: 0.3485 - val_accuracy: 0.9148\n",
      "Epoch 9/10\n",
      "135/135 [==============================] - 3s 21ms/step - loss: 0.0802 - accuracy: 0.9937 - val_loss: 0.3224 - val_accuracy: 0.9213\n",
      "Epoch 10/10\n",
      "135/135 [==============================] - 3s 20ms/step - loss: 0.0584 - accuracy: 0.9972 - val_loss: 0.3224 - val_accuracy: 0.9204\n"
     ]
    },
    {
     "data": {
      "image/png": "[encoded data removed]",
      "text/plain": [
       "<Figure size 432x288 with 1 Axes>"
      ]
     },
     "metadata": {
      "needs_background": "light"
     },
     "output_type": "display_data"
    }
   ],
   "source": [
    "#keras classifier with 80/20 split\n",
    "\n",
    "# create model\n",
    "model = tf.keras.Sequential([\n",
    "    tf.keras.layers.Flatten(),\n",
    "    tf.keras.layers.Dense(64, activation='relu'),\n",
    "    tf.keras.layers.Dense(18)\n",
    "])\n",
    "\n",
    "\n",
    "# Compile model\n",
    "model.compile(optimizer='adam',\n",
    "              loss = tf.keras.losses.SparseCategoricalCrossentropy(from_logits=True),\n",
    "              metrics=['accuracy'])\n",
    "\n",
    "# Fit the model\n",
    "top_fit = model.fit(top_x, top_y, validation_split=0.20, epochs=10)\n",
    "\n",
    "\n",
    "# summarize history for accuracy\n",
    "plt.plot(top_fit.history['accuracy'])\n",
    "plt.plot(top_fit.history['val_accuracy'])\n",
    "plt.title('model accuracy')\n",
    "plt.ylabel('accuracy')\n",
    "plt.xlabel('epoch')\n",
    "plt.legend(['train', 'test'], loc='upper left')\n",
    "plt.show()\n"
   ]
  },
  {
   "cell_type": "markdown",
   "id": "cec2f830-c6d5-461c-8d36-7ea87e1dec1f",
   "metadata": {},
   "source": [
    "Although Keras on the top 100 features performs better than on the full dataset (below), it still doesn't outperform the random forest classifier. The final accuray is 92% while the random forest has 96%. Again, I think this could be because the deep learning model may be overfitting and it requires more hyperparameter tuning to perform optimally. "
   ]
  },
  {
   "cell_type": "markdown",
   "id": "54217f99-96c6-4320-b6e5-b2223b72f969",
   "metadata": {},
   "source": [
    "Keras with the raw data performs very poorly as we can see below. Running it on the top features (above) is much better"
   ]
  },
  {
   "cell_type": "code",
   "execution_count": 65,
   "id": "ce092b49-d73d-470c-b1ce-98f451123116",
   "metadata": {},
   "outputs": [],
   "source": [
    "type_x = type_df.drop(columns = [\"Type\"])\n",
    "type_y = type_df[\"Type\"]\n",
    "\n",
    "#change labels to be 0 - 17 instead \n",
    "type_y = type_y -1 \n",
    "\n",
    "#scale the x's \n",
    "type_max = max(np.max(type_x))\n",
    "type_x = type_x/type_max"
   ]
  },
  {
   "cell_type": "code",
   "execution_count": 66,
   "id": "52449b60-53ca-48f8-8faa-6b30678cbac6",
   "metadata": {},
   "outputs": [
    {
     "name": "stdout",
     "output_type": "stream",
     "text": [
      "Epoch 1/10\n",
      "135/135 [==============================] - 8s 51ms/step - loss: 3.4163 - accuracy: 0.0472 - val_loss: 2.8905 - val_accuracy: 0.0565\n",
      "Epoch 2/10\n",
      "135/135 [==============================] - 3s 22ms/step - loss: 2.8906 - accuracy: 0.0521 - val_loss: 2.8909 - val_accuracy: 0.0491\n",
      "Epoch 3/10\n",
      "135/135 [==============================] - 3s 22ms/step - loss: 2.8905 - accuracy: 0.0523 - val_loss: 2.8912 - val_accuracy: 0.0389\n",
      "Epoch 4/10\n",
      "135/135 [==============================] - 3s 21ms/step - loss: 2.8904 - accuracy: 0.0576 - val_loss: 2.8916 - val_accuracy: 0.0389\n",
      "Epoch 5/10\n",
      "135/135 [==============================] - 3s 22ms/step - loss: 2.8903 - accuracy: 0.0597 - val_loss: 2.8921 - val_accuracy: 0.0389\n",
      "Epoch 6/10\n",
      "135/135 [==============================] - 3s 22ms/step - loss: 2.8904 - accuracy: 0.0560 - val_loss: 2.8924 - val_accuracy: 0.0389\n",
      "Epoch 7/10\n",
      "135/135 [==============================] - 3s 22ms/step - loss: 2.8903 - accuracy: 0.0597 - val_loss: 2.8927 - val_accuracy: 0.0389\n",
      "Epoch 8/10\n",
      "135/135 [==============================] - 3s 22ms/step - loss: 2.8903 - accuracy: 0.0597 - val_loss: 2.8929 - val_accuracy: 0.0389\n",
      "Epoch 9/10\n",
      "135/135 [==============================] - 3s 22ms/step - loss: 2.8903 - accuracy: 0.0597 - val_loss: 2.8933 - val_accuracy: 0.0389\n",
      "Epoch 10/10\n",
      "135/135 [==============================] - 3s 22ms/step - loss: 2.8902 - accuracy: 0.0597 - val_loss: 2.8934 - val_accuracy: 0.0389\n"
     ]
    },
    {
     "data": {
      "image/png": "[encoded data removed]",
      "text/plain": [
       "<Figure size 432x288 with 1 Axes>"
      ]
     },
     "metadata": {
      "needs_background": "light"
     },
     "output_type": "display_data"
    }
   ],
   "source": [
    "#keras classifier with 80/20 split\n",
    "\n",
    "# create model\n",
    "model = tf.keras.Sequential([\n",
    "    tf.keras.layers.Flatten(),\n",
    "    tf.keras.layers.Dense(64, activation='relu'),\n",
    "    tf.keras.layers.Dense(18)\n",
    "])\n",
    "\n",
    "\n",
    "# Compile model\n",
    "model.compile(optimizer='adam',\n",
    "              loss = tf.keras.losses.SparseCategoricalCrossentropy(from_logits=True),\n",
    "              metrics=['accuracy'])\n",
    "\n",
    "# Fit the model\n",
    "type_fit = model.fit(type_x, type_y, validation_split=0.20, epochs=10)\n",
    "\n",
    "\n",
    "# summarize history for accuracy\n",
    "plt.plot(type_fit.history['accuracy'])\n",
    "plt.plot(type_fit.history['val_accuracy'])\n",
    "plt.title('model accuracy')\n",
    "plt.ylabel('accuracy')\n",
    "plt.xlabel('epoch')\n",
    "plt.legend(['train', 'test'], loc='upper left')\n",
    "plt.show()\n"
   ]
  },
  {
   "cell_type": "markdown",
   "id": "6edde777-46e8-43ef-a25d-d976de7f3441",
   "metadata": {},
   "source": [
    "*Conclusion* \n",
    "\n",
    "The classical machine learning techniques still do a better job at classifying tumor type, particularly random forests. There's variation in how well the model classifies depending on type, this may indicate that we need to develop separate models or fix data imbalances. Overall, there's a lot of meaningful information that can be extracted from gene expression data to classify tumor type and machine learning techniques can assist in this process. We still need to work towards perfecting these models before they could be used to identify patient's tumor types in a useful clinical application. "
   ]
  },
  {
   "cell_type": "markdown",
   "id": "bcf76fec-5b0e-4bdc-90e0-e29122a29d09",
   "metadata": {},
   "source": [
    "*Extra Credit AutoKeras Pseudocode*\n",
    "\n",
    "I was having difficulties downloading autokeras. This requires me to set up a virtual environment to run with a downgraded python version. I would love to do this with more time in the future, but I'm just going to leave this here to demonstrate my thought process about this. I'm very interested in the idea of being able to automate the deep learning optimization.  \n"
   ]
  },
  {
   "cell_type": "code",
   "execution_count": null,
   "id": "8abbb35e-c64f-4c9b-a248-e03d754015f2",
   "metadata": {},
   "outputs": [],
   "source": [
    "#autokeras - having difficulties importing\n",
    "#import autokeras as ak"
   ]
  },
  {
   "cell_type": "code",
   "execution_count": null,
   "id": "0270776d-31a0-42a8-9ef1-ddcf14b6541b",
   "metadata": {},
   "outputs": [],
   "source": [
    "#from their tutorial: https://autokeras.com/tutorial/structured_data_classification/\n",
    "\n",
    "# Initialize the structured data classifier.\n",
    "clf = ak.StructuredDataClassifier(\n",
    "    overwrite=True, max_trials=3\n",
    ")  # It tries 3 different models.\n",
    "\n",
    "\n",
    "# Feed the structured data classifier with training data.\n",
    "clf.fit(train_type_x, \n",
    "        train_type_y,\n",
    "        epochs=10)\n",
    "\n",
    "# Predict with the best model.\n",
    "predicted_y = clf.predict(test_type_x)\n",
    "\n",
    "# Evaluate the best model with testing data.\n",
    "print(clf.evaluate(test_type_x, test_type_y))"
   ]
  }
 ],
 "metadata": {
  "kernelspec": {
   "display_name": "Python 3",
   "language": "python",
   "name": "python3"
  },
  "language_info": {
   "codemirror_mode": {
    "name": "ipython",
    "version": 3
   },
   "file_extension": ".py",
   "mimetype": "text/x-python",
   "name": "python",
   "nbconvert_exporter": "python",
   "pygments_lexer": "ipython3",
   "version": "3.8.8"
  }
 },
 "nbformat": 4,
 "nbformat_minor": 5
}
